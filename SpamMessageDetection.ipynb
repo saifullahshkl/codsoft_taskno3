{
 "cells": [
  {
   "cell_type": "code",
   "execution_count": null,
   "id": "026d64af-68df-48da-96b7-d6bff610e88e",
   "metadata": {},
   "outputs": [],
   "source": [
    "pip install pandas scikit-learn numpy"
   ]
  },
  {
   "cell_type": "code",
   "execution_count": null,
   "id": "9a27b6f4-ec99-4b6a-bc97-3965ae581035",
   "metadata": {},
   "outputs": [],
   "source": [
    "import pandas as pd\n",
    "\n",
    "# Load the dataset\n",
    "df = pd.read_csv('/spam.csv', encoding='latin-1')\n",
    "\n",
    "# Drop unnecessary columns\n",
    "df = df[['v1', 'v2']]\n",
    "\n",
    "# Rename columns for clarity\n",
    "df.columns = ['label', 'message']\n",
    "\n",
    "# Display the first few rows\n",
    "print(df.head())\n",
    "\n",
    "# Check the distribution of spam and ham messages\n",
    "print(df['label'].value_counts())"
   ]
  },
  {
   "cell_type": "code",
   "execution_count": null,
   "id": "f48f527d-2a61-48bb-84a9-d371d88facf2",
   "metadata": {},
   "outputs": [],
   "source": [
    "from sklearn.model_selection import train_test_split\n",
    "\n",
    "df['label'] = df['label'].map({'spam': 1, 'ham': 0})\n",
    "\n",
    "X_train, X_test, y_train, y_test = train_test_split(df['message'], df['label'], test_size=0.2, random_state=42)\n",
    "\n",
    "print(f\"Training set size: {len(X_train)}\")\n",
    "print(f\"Testing set size: {len(X_test)}\")"
   ]
  },
  {
   "cell_type": "code",
   "execution_count": null,
   "id": "d658af0b-3366-4005-a03c-8ab0e4bd763a",
   "metadata": {},
   "outputs": [],
   "source": [
    "from sklearn.feature_extraction.text import TfidfVectorizer\n",
    "\n",
    "tfidf = TfidfVectorizer(max_features=5000, stop_words='english')\n",
    "\n",
    "X_train_tfidf = tfidf.fit_transform(X_train)\n",
    "\n",
    "X_test_tfidf = tfidf.transform(X_test)\n",
    "\n",
    "print(f\"Shape of TF-IDF training data: {X_train_tfidf.shape}\")\n",
    "print(f\"Shape of TF-IDF testing data: {X_test_tfidf.shape}\")"
   ]
  },
  {
   "cell_type": "code",
   "execution_count": null,
   "id": "72584fce-1245-4e68-938e-d035b3398bd2",
   "metadata": {},
   "outputs": [],
   "source": [
    "from sklearn.linear_model import LogisticRegression\n",
    "from sklearn.metrics import accuracy_score, classification_report, confusion_matrix\n",
    "\n",
    "model = LogisticRegression()\n",
    "\n",
    "model.fit(X_train_tfidf, y_train)\n",
    "\n",
    "y_pred = model.predict(X_test_tfidf)\n",
    "\n",
    "print(f\"Accuracy: {accuracy_score(y_test, y_pred)}\")\n",
    "print(\"\\nClassification Report:\")\n",
    "print(classification_report(y_test, y_pred))\n",
    "print(\"\\nConfusion Matrix:\")\n",
    "print(confusion_matrix(y_test, y_pred))"
   ]
  },
  {
   "cell_type": "code",
   "execution_count": null,
   "id": "13d0cc8a-4e8d-4153-aefb-b3d83b7b7537",
   "metadata": {},
   "outputs": [],
   "source": [
    "def classify_message(model, vectorizer, message):\n",
    "    message_tfidf = vectorizer.transform([message])\n",
    "    \n",
    "    prediction = model.predict(message_tfidf)\n",
    "    \n",
    "    return \"spam\" if prediction[0] == 1 else \"ham\"\n",
    "\n",
    "# Test with a custom message\n",
    "custom_message = \"Hi you won 3000$ in lottery\"\n",
    "result = classify_message(model, tfidf, custom_message)\n",
    "print(f\"The message is classified as: {result}\")"
   ]
  },
  {
   "cell_type": "code",
   "execution_count": null,
   "id": "78187b4d-ffab-4e2d-92bf-03edd709b59d",
   "metadata": {},
   "outputs": [],
   "source": []
  }
 ],
 "metadata": {
  "kernelspec": {
   "display_name": "Python 3 (ipykernel)",
   "language": "python",
   "name": "python3"
  },
  "language_info": {
   "codemirror_mode": {
    "name": "ipython",
    "version": 3
   },
   "file_extension": ".py",
   "mimetype": "text/x-python",
   "name": "python",
   "nbconvert_exporter": "python",
   "pygments_lexer": "ipython3",
   "version": "3.12.7"
  }
 },
 "nbformat": 4,
 "nbformat_minor": 5
}
